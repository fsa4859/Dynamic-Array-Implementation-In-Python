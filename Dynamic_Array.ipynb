{
  "nbformat": 4,
  "nbformat_minor": 0,
  "metadata": {
    "colab": {
      "name": "Dynamic_Array.ipynb",
      "provenance": []
    },
    "kernelspec": {
      "name": "python3",
      "display_name": "Python 3"
    },
    "language_info": {
      "name": "python"
    }
  },
  "cells": [
    {
      "cell_type": "markdown",
      "source": [
        "Array sequences in Python\n",
        "\n",
        "1- Each individual byte of memory can be retrieved in order O(1) time.\n",
        "\n",
        "2- Collection of variables stored in a seuence is referred to as array.\n",
        "\n",
        "3- Python stores unicode character with 2 bytes (16 bits).\n",
        "\n",
        "4- Each cell of an array has the same size and that what it makes to retreive any information in constant time.\n",
        "\n",
        "5- The idea of referencal arrays is that creating a copy of the array doesn't create new objects but just copy the references.\n",
        "\n",
        "6- when creating a list instance in Python, the memory is usually greater than the current memory (dynamic arrays)."
      ],
      "metadata": {
        "id": "q120JVz9duEU"
      }
    },
    {
      "cell_type": "code",
      "source": [
        "# example of dynamic array in Python\n",
        "import sys\n",
        "# create an empty list\n",
        "data=[]\n",
        "\n",
        "n=50\n",
        "\n",
        "for i in range(n):\n",
        "  a=len(data)\n",
        "  b=sys.getsizeof(a)\n",
        "\n",
        "  print ('the length of list is {} and bytes used are {}'.format(a,b))\n",
        "\n",
        "  data.append(n)\n"
      ],
      "metadata": {
        "id": "je50V6nEhiGS"
      },
      "execution_count": null,
      "outputs": []
    },
    {
      "cell_type": "markdown",
      "source": [
        "It can be seen that the size of the array increases in shunks and this is the idea of dynamic arrays\n",
        "\n",
        "Therotical implementation of dynamic arrays in Python\n",
        "\n",
        "Create a new array B\n",
        "Store elements of A in B\n",
        "Reassign reference A to the new array."
      ],
      "metadata": {
        "id": "ofu5WmgvhoNn"
      }
    },
    {
      "cell_type": "code",
      "source": [
        "import ctypes\n",
        "class DynamicArray(object):\n",
        "  def __init__(self):\n",
        "    self.n=0 # count of actual elements\n",
        "    self.capacity=1 # initialize the capcacity with 1\n",
        "    self.A=self.make_array(self.capacity)\n",
        "\n",
        "  def __len__(self):\n",
        "    # return number of elements in the array\n",
        "    return self.n\n",
        "\n",
        "  def __get_item__(self,k):\n",
        "    if not 0<=k<self.n: # checking the index is in bound\n",
        "      return IndexError('K is out of bounds')\n",
        "\n",
        "    return self.A[k]\n",
        "\n",
        "  def append(self,ele):\n",
        "    if self.n==self.capacity:\n",
        "      self._resize(2*self.capacity) # double the size of the array (rule)\n",
        "    \n",
        "    self.A[self.n]=ele\n",
        "    self.n+=1\n",
        "\n",
        "  \n",
        "  def _resize(self,new_cap):\n",
        "    B=self.make_array(new_cap)\n",
        "\n",
        "    for k in range(self.n):\n",
        "      B[k]=self.A[k]\n",
        "\n",
        "    self.A=B\n",
        "    self.capacity=new_cap\n",
        "\n",
        "  \n",
        "  def make_array(self,new_cap):\n",
        "    return (new_cap * ctypes.py_object)()\n",
        "\n"
      ],
      "metadata": {
        "id": "ROBC2hUQhsgF"
      },
      "execution_count": 3,
      "outputs": []
    },
    {
      "cell_type": "code",
      "source": [
        ""
      ],
      "metadata": {
        "id": "3hEufx7Dhzsz"
      },
      "execution_count": null,
      "outputs": []
    }
  ]
}